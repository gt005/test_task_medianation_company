{
 "cells": [
  {
   "cell_type": "code",
   "execution_count": null,
   "outputs": [],
   "source": [
    "from selenium import webdriver\n",
    "from selenium.webdriver.chrome.options import Options\n",
    "from selenium.webdriver.common.by import By\n",
    "from threading import Thread\n",
    "from time import monotonic, sleep"
   ],
   "metadata": {
    "collapsed": false,
    "pycharm": {
     "name": "#%%\n"
    }
   }
  },
  {
   "cell_type": "code",
   "execution_count": null,
   "outputs": [],
   "source": [
    "chrome_options = Options()\n",
    "chrome_options.add_argument(\"--headless\")"
   ],
   "metadata": {
    "collapsed": false,
    "pycharm": {
     "name": "#%%\n"
    }
   }
  },
  {
   "cell_type": "code",
   "execution_count": null,
   "outputs": [],
   "source": [
    "def parse_data_from_html(url: str) -> None:\n",
    "    driver = webdriver.Chrome(options=chrome_options)\n",
    "    driver.get(url)\n",
    "    sleep(2)\n",
    "    content = driver.find_element(By.CSS_SELECTOR, 'h1.page-title__title')\n",
    "    driver.quit()\n",
    "    print(content.text)"
   ],
   "metadata": {
    "collapsed": false,
    "pycharm": {
     "name": "#%%\n"
    }
   }
  },
  {
   "cell_type": "code",
   "execution_count": null,
   "outputs": [],
   "source": [
    "list_of_urls = [\"https://career.habr.com/mdpotap\",\n",
    "\"https://career.habr.com/starenev\",\n",
    "\"https://career.habr.com/suppbanddab\",\n",
    "\"https://career.habr.com/dingnsuker\",]"
   ],
   "metadata": {
    "collapsed": false,
    "pycharm": {
     "name": "#%%\n"
    }
   }
  },
  {
   "cell_type": "code",
   "execution_count": null,
   "outputs": [],
   "source": [
    "start = monotonic()\n",
    "\n",
    "threads_list = []\n",
    "\n",
    "for url in list_of_urls:\n",
    "    tmp_thread = Thread(target=parse_data_from_html, args=(url,))\n",
    "    threads_list.append(tmp_thread)\n",
    "    tmp_thread.start()\n",
    "\n",
    "for thread in threads_list:\n",
    "    thread.join()\n",
    "\n",
    "print(\"result time: \", monotonic() - start)\n",
    "print(\"average time: \", (monotonic() - start) / len(list_of_urls))"
   ],
   "metadata": {
    "collapsed": false,
    "pycharm": {
     "name": "#%%\n"
    }
   }
  }
 ],
 "metadata": {
  "kernelspec": {
   "display_name": "Python 3",
   "language": "python",
   "name": "python3"
  },
  "language_info": {
   "codemirror_mode": {
    "name": "ipython",
    "version": 2
   },
   "file_extension": ".py",
   "mimetype": "text/x-python",
   "name": "python",
   "nbconvert_exporter": "python",
   "pygments_lexer": "ipython2",
   "version": "2.7.6"
  }
 },
 "nbformat": 4,
 "nbformat_minor": 0
}